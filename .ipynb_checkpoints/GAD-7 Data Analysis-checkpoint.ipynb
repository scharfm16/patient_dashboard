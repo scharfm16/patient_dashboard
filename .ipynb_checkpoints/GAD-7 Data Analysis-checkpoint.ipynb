{
 "cells": [
  {
   "cell_type": "markdown",
   "metadata": {},
   "source": [
    "Q: Given the information you have and any light research you’d like to do on the topic, what\n",
    "insights can you draw? What assumptions have you made about the data? What are 2-3\n",
    "additional pieces of information that would be important to collect? We are not looking for\n",
    "production-ready code, but we will assess both your approach to visualization and your\n",
    "technical abilities."
   ]
  },
  {
   "cell_type": "code",
   "execution_count": 1,
   "metadata": {},
   "outputs": [],
   "source": [
    "import pandas as pd"
   ]
  },
  {
   "cell_type": "code",
   "execution_count": 2,
   "metadata": {},
   "outputs": [
    {
     "data": {
      "text/html": [
       "<div>\n",
       "<style scoped>\n",
       "    .dataframe tbody tr th:only-of-type {\n",
       "        vertical-align: middle;\n",
       "    }\n",
       "\n",
       "    .dataframe tbody tr th {\n",
       "        vertical-align: top;\n",
       "    }\n",
       "\n",
       "    .dataframe thead th {\n",
       "        text-align: right;\n",
       "    }\n",
       "</style>\n",
       "<table border=\"1\" class=\"dataframe\">\n",
       "  <thead>\n",
       "    <tr style=\"text-align: right;\">\n",
       "      <th></th>\n",
       "      <th>date</th>\n",
       "      <th>patient_id</th>\n",
       "      <th>type</th>\n",
       "      <th>patient_date_created</th>\n",
       "      <th>score</th>\n",
       "    </tr>\n",
       "  </thead>\n",
       "  <tbody>\n",
       "    <tr>\n",
       "      <th>0</th>\n",
       "      <td>2019-08-26 13:32:43.019162</td>\n",
       "      <td>8430</td>\n",
       "      <td>gad7</td>\n",
       "      <td>2019-06-03 13:23:02.635680</td>\n",
       "      <td>6</td>\n",
       "    </tr>\n",
       "    <tr>\n",
       "      <th>1</th>\n",
       "      <td>2019-11-15 17:55:11.364877</td>\n",
       "      <td>8430</td>\n",
       "      <td>gad7</td>\n",
       "      <td>2019-06-03 13:23:02.635680</td>\n",
       "      <td>1</td>\n",
       "    </tr>\n",
       "    <tr>\n",
       "      <th>2</th>\n",
       "      <td>2019-10-07 18:23:29.611351</td>\n",
       "      <td>14338</td>\n",
       "      <td>gad7</td>\n",
       "      <td>2019-06-03 13:32:30.668460</td>\n",
       "      <td>10</td>\n",
       "    </tr>\n",
       "    <tr>\n",
       "      <th>3</th>\n",
       "      <td>2019-11-04 20:16:28.610965</td>\n",
       "      <td>14338</td>\n",
       "      <td>gad7</td>\n",
       "      <td>2019-06-03 13:32:30.668460</td>\n",
       "      <td>7</td>\n",
       "    </tr>\n",
       "    <tr>\n",
       "      <th>4</th>\n",
       "      <td>2019-12-02 20:56:55.966354</td>\n",
       "      <td>14338</td>\n",
       "      <td>gad7</td>\n",
       "      <td>2019-06-03 13:32:30.668460</td>\n",
       "      <td>9</td>\n",
       "    </tr>\n",
       "    <tr>\n",
       "      <th>...</th>\n",
       "      <td>...</td>\n",
       "      <td>...</td>\n",
       "      <td>...</td>\n",
       "      <td>...</td>\n",
       "      <td>...</td>\n",
       "    </tr>\n",
       "    <tr>\n",
       "      <th>53693</th>\n",
       "      <td>2020-07-31 13:59:13.201741</td>\n",
       "      <td>10683</td>\n",
       "      <td>gad7</td>\n",
       "      <td>2020-07-31 13:54:20.164253</td>\n",
       "      <td>1</td>\n",
       "    </tr>\n",
       "    <tr>\n",
       "      <th>53694</th>\n",
       "      <td>2020-07-31 15:08:56.079027</td>\n",
       "      <td>12344</td>\n",
       "      <td>gad7</td>\n",
       "      <td>2020-07-31 15:06:51.043730</td>\n",
       "      <td>1</td>\n",
       "    </tr>\n",
       "    <tr>\n",
       "      <th>53695</th>\n",
       "      <td>2020-07-31 15:52:50.353265</td>\n",
       "      <td>17475</td>\n",
       "      <td>gad7</td>\n",
       "      <td>2020-07-31 15:40:07.726529</td>\n",
       "      <td>7</td>\n",
       "    </tr>\n",
       "    <tr>\n",
       "      <th>53696</th>\n",
       "      <td>2020-07-31 17:36:57.057913</td>\n",
       "      <td>9069</td>\n",
       "      <td>gad7</td>\n",
       "      <td>2020-07-31 17:33:27.096572</td>\n",
       "      <td>3</td>\n",
       "    </tr>\n",
       "    <tr>\n",
       "      <th>53697</th>\n",
       "      <td>2020-07-31 17:58:53.067462</td>\n",
       "      <td>4870</td>\n",
       "      <td>gad7</td>\n",
       "      <td>2020-07-31 17:58:21.004418</td>\n",
       "      <td>4</td>\n",
       "    </tr>\n",
       "  </tbody>\n",
       "</table>\n",
       "<p>53698 rows × 5 columns</p>\n",
       "</div>"
      ],
      "text/plain": [
       "                            date  patient_id  type       patient_date_created  \\\n",
       "0     2019-08-26 13:32:43.019162        8430  gad7 2019-06-03 13:23:02.635680   \n",
       "1     2019-11-15 17:55:11.364877        8430  gad7 2019-06-03 13:23:02.635680   \n",
       "2     2019-10-07 18:23:29.611351       14338  gad7 2019-06-03 13:32:30.668460   \n",
       "3     2019-11-04 20:16:28.610965       14338  gad7 2019-06-03 13:32:30.668460   \n",
       "4     2019-12-02 20:56:55.966354       14338  gad7 2019-06-03 13:32:30.668460   \n",
       "...                          ...         ...   ...                        ...   \n",
       "53693 2020-07-31 13:59:13.201741       10683  gad7 2020-07-31 13:54:20.164253   \n",
       "53694 2020-07-31 15:08:56.079027       12344  gad7 2020-07-31 15:06:51.043730   \n",
       "53695 2020-07-31 15:52:50.353265       17475  gad7 2020-07-31 15:40:07.726529   \n",
       "53696 2020-07-31 17:36:57.057913        9069  gad7 2020-07-31 17:33:27.096572   \n",
       "53697 2020-07-31 17:58:53.067462        4870  gad7 2020-07-31 17:58:21.004418   \n",
       "\n",
       "       score  \n",
       "0          6  \n",
       "1          1  \n",
       "2         10  \n",
       "3          7  \n",
       "4          9  \n",
       "...      ...  \n",
       "53693      1  \n",
       "53694      1  \n",
       "53695      7  \n",
       "53696      3  \n",
       "53697      4  \n",
       "\n",
       "[53698 rows x 5 columns]"
      ]
     },
     "metadata": {},
     "output_type": "display_data"
    }
   ],
   "source": [
    "df = pd.read_csv('phq_all_final.csv',\n",
    "        parse_dates=[\"date\",\"patient_date_created\"])\n",
    "display(df)"
   ]
  },
  {
   "cell_type": "code",
   "execution_count": 19,
   "metadata": {},
   "outputs": [
    {
     "data": {
      "text/plain": [
       "<matplotlib.axes._subplots.AxesSubplot at 0x118fe0e10>"
      ]
     },
     "execution_count": 19,
     "metadata": {},
     "output_type": "execute_result"
    },
    {
     "data": {
      "image/png": "[encoded data removed]",
      "text/plain": [
       "<Figure size 432x288 with 1 Axes>"
      ]
     },
     "metadata": {
      "needs_background": "light"
     },
     "output_type": "display_data"
    }
   ],
   "source": [
    "fig = df.groupby([df[\"date\"].dt.year, df[\"date\"].dt.month]).date.count().plot(kind=\"bar\",title=\"Date Histogram\")\n",
    "fig.set_xlabel(\"Date (Year,Month)\")\n",
    "fig.set_ylabel(\"Frequency\")\n"
   ]
  },
  {
   "cell_type": "code",
   "execution_count": null,
   "metadata": {},
   "outputs": [],
   "source": []
  }
 ],
 "metadata": {
  "kernelspec": {
   "display_name": "Python 3",
   "language": "python",
   "name": "python3"
  },
  "language_info": {
   "codemirror_mode": {
    "name": "ipython",
    "version": 3
   },
   "file_extension": ".py",
   "mimetype": "text/x-python",
   "name": "python",
   "nbconvert_exporter": "python",
   "pygments_lexer": "ipython3",
   "version": "3.6.5"
  }
 },
 "nbformat": 4,
 "nbformat_minor": 2
}
